{
 "cells": [
  {
   "cell_type": "markdown",
   "metadata": {},
   "source": [
    "# Dependencies installeren\n",
    "Dit script heeft `spotipy` nodig. Zorg ervoor dat je 'm geinstalleerd hebt, anders gaat 'ie zeiken!"
   ]
  },
  {
   "cell_type": "code",
   "execution_count": null,
   "metadata": {},
   "outputs": [],
   "source": [
    "## DEPENDENCIES INSTALLEREN\n",
    "\n",
    "%pip install spotipy"
   ]
  },
  {
   "cell_type": "markdown",
   "metadata": {},
   "source": [
    "# Imports\n",
    "Importeert alles wat nodig is om het script te laten werken."
   ]
  },
  {
   "cell_type": "code",
   "execution_count": null,
   "metadata": {},
   "outputs": [],
   "source": [
    "## IMPORTS\n",
    "\n",
    "import spotipy\n",
    "import operator\n",
    "import random\n",
    "import spotipy.oauth2\n",
    "import spotipy.util as util\n",
    "from datetime import datetime\n",
    "\n",
    "# Print\n",
    "print(\"Import gelukt!\")"
   ]
  },
  {
   "cell_type": "markdown",
   "metadata": {},
   "source": [
    "# Initialiseer `spotipy`\n",
    "Deze stap initialiseert `spotipy`.\n",
    "Je moet het volgende doen om `CLIENT_ID` en `CLIENT_SECRET` te verkrijgen:\n",
    "- Ga naar developer.spotify.com en log in met je Spotify-account.\n",
    "- Klik op je profiel rechtsboven en ga naar 'Dashboard'.\n",
    "- Maak een nieuwe app aan, geef 'm een leuke naam en beschrijving. Bij 'Redirect URIs' moet je localhost invullen.\n",
    "- Bij 'Which API/SDKs are you planning to use?' klik je alleen de 'Web API' aan. Maak de app aan.\n",
    "- Met de app open klik je op Settings. Hier zie je de Client ID en de Client Secret. Hèhè."
   ]
  },
  {
   "cell_type": "code",
   "execution_count": null,
   "metadata": {},
   "outputs": [],
   "source": [
    "## INITIALISEER SPOTIPY\n",
    "\n",
    "\n",
    "CLIENT_ID = \"(hier dan je client id)\"\n",
    "CLIENT_SECRET = \"(hier dan je client secret)\"\n",
    "CLIENT_USERNAME = \"(hier dan je Spotify username)\"\n",
    "\n",
    "token = util.prompt_for_user_token(\n",
    "    username=CLIENT_USERNAME,\n",
    "    scope='playlist-modify-public',\n",
    "    client_id=CLIENT_ID,\n",
    "    client_secret=CLIENT_SECRET,\n",
    "    redirect_uri='http://localhost:8888/callback',\n",
    ")\n",
    "\n",
    "spotify = spotipy.Spotify(token)\n",
    "\n",
    "\n",
    "# Print\n",
    "print(\"Spotipy-initialisatie gelukt!\")"
   ]
  },
  {
   "cell_type": "markdown",
   "metadata": {},
   "source": [
    "# Definieer playlist URIs\n",
    "Hier plak je alle URIs van de ingezonden playlists.  \n",
    "Om de URI van een playlist te krijgen, rechtsklik je op een playlist in Spotify, ga je naar 'Share' en houd je de Control-toets ingedrukt. Nu zie je 'Copy Playlist URI' staan."
   ]
  },
  {
   "cell_type": "code",
   "execution_count": null,
   "metadata": {},
   "outputs": [],
   "source": [
    "## DEFINIEER PLAYLIST URIS\n",
    "\n",
    "\n",
    "playlist_uris = [\n",
    "    \"spotify:playlist:37i9dQZF1Fa6SP6gVRDoDA\",\n",
    "    \"spotify:playlist:0xvhuuDdwPIBOgXZWh8FHI\",\n",
    "    # (enzovoort)\n",
    "]\n",
    "\n",
    "\n",
    "# Print\n",
    "print(\"URI-definitie gelukt!\")"
   ]
  },
  {
   "cell_type": "markdown",
   "metadata": {},
   "source": [
    "# Telling\n",
    "Deze sectie telt de aanwezigheid van alle liedjes bij elkaar op.  \n",
    "Je ziet dat ik extra spelregels heb toegevoegd; die mag je natuurlijk weghalen (of meer toevoegen!).  \n",
    "Opmerking: verschillende uitvoeringen van liedjes tellen als andere liedjes. In mijn jaar heb ik na de telling nog alle tellingen van de verschillende uitvoeringen handmatig bij elkaar opgeteld."
   ]
  },
  {
   "cell_type": "code",
   "execution_count": null,
   "metadata": {},
   "outputs": [],
   "source": [
    "# TELLING\n",
    "\n",
    "\n",
    "# Initialiseer telling\n",
    "counts: dict[str, int] = {}\n",
    "names: dict[str, str] = {}\n",
    "\n",
    "# Ga door alle playlists\n",
    "for playlist_uri in playlist_uris:\n",
    "    print(f\"Processing {playlist_uri}...\")\n",
    "\n",
    "    # Verkrijg alle tracks\n",
    "    results: dict = spotify.playlist_items(playlist_uri)\n",
    "    items: list[dict] = results['items']\n",
    "    while results['next']:\n",
    "        results = spotify.next(results)\n",
    "        items.extend(results['items'])\n",
    "\n",
    "    # Spelregel: filter unieke URI's\n",
    "    unique_uris: set = set()\n",
    "    unique_items: list[dict] = []\n",
    "    for item in items:\n",
    "        track_uri: str = item['track']['uri']\n",
    "        \n",
    "        if track_uri in unique_uris:\n",
    "            print(\"Dubbele track verwijderd:\", item['track']['name'])\n",
    "        else:\n",
    "            unique_items.append(item)\n",
    "\n",
    "        unique_uris.add(track_uri)\n",
    "\n",
    "    items = unique_items\n",
    "\n",
    "    # Spelregel: lijsten zijn max 100 nummers\n",
    "    items = items[:100]\n",
    "\n",
    "    # Spelregel: top 5 telt dubbel\n",
    "    items = items[:5] + items\n",
    "\n",
    "    # Houd de score bij\n",
    "    for item in items:\n",
    "        track_uri: str = item['track']['uri']\n",
    "        track_name: str = item['track']['name']\n",
    "\n",
    "        names[track_uri] = track_name\n",
    "\n",
    "        # Initialiseer telling\n",
    "        if not (track_uri in counts): counts[track_uri] = 0\n",
    "        \n",
    "        counts[track_uri] += 1\n",
    "\n",
    "\n",
    "# Hack: shuffle de counts\n",
    "counts_items: list = list(counts.items())\n",
    "random.shuffle(counts_items)\n",
    "counts = dict(counts_items)\n",
    "\n",
    "# Sorteer counts op aantal\n",
    "top_2_jazzend = sorted(counts.items(), key=operator.itemgetter(1), reverse=True)\n",
    "\n",
    "\n",
    "# Print\n",
    "print(\"Telling gelukt!\")"
   ]
  },
  {
   "cell_type": "markdown",
   "metadata": {},
   "source": [
    "# Schrijf naar CSV\n",
    "In dit deel wordt de telling geëxporteerd naar een CSV-bestand (en die valt te openen met Excel!). In dit bestand kan je nog kloten, voordat je de uiteindelijke playlist maakt."
   ]
  },
  {
   "cell_type": "code",
   "execution_count": null,
   "metadata": {},
   "outputs": [],
   "source": [
    "# SCHRIJF NAAR CSV\n",
    "\n",
    "with open('top_2_jazzend.csv', 'w', encoding='utf8') as f:\n",
    "    for (uri, count) in top_2_jazzend:\n",
    "        name = names[uri].replace('\"', '')\n",
    "        \n",
    "        f.write(uri)\n",
    "        f.write(';')\n",
    "        f.write(f'\"{name}\"')\n",
    "        f.write(';')\n",
    "        f.write(str(count))\n",
    "        f.write('\\n')\n",
    "\n",
    "\n",
    "# Print\n",
    "print(\"Schrijven naar CSV gelukt!\")"
   ]
  },
  {
   "cell_type": "markdown",
   "metadata": {},
   "source": [
    "# Maak Spotify playlist\n",
    "Ah, we zijn er. Met dit stukje code maak je, op basis van de CSV, de playlist automatisch aan in Spotify. Handig!"
   ]
  },
  {
   "cell_type": "code",
   "execution_count": null,
   "metadata": {},
   "outputs": [],
   "source": [
    "# MAAK SPOTIFY PLAYLIST\n",
    "\n",
    "# Maak een playlist\n",
    "playlist_name: str = f'[{datetime.now().strftime(\"%Y-%m-%d %H:%M\")}] Top 2-Jazzend'\n",
    "playlist = spotify.user_playlist_create(user='sjerpsthomas', name=playlist_name, public=False)\n",
    "\n",
    "# Voeg de nummers toe\n",
    "with open('top_2_jazzend.csv', 'r', encoding='utf8') as f:\n",
    "    tracks: list[str] = [line.split(';')[0] for line in f][:100]\n",
    "    \n",
    "    spotify.user_playlist_add_tracks(\n",
    "        user=CLIENT_USERNAME,\n",
    "        playlist_id=playlist['id'],\n",
    "        tracks=tracks,\n",
    "    )\n",
    "\n",
    "\n",
    "# Print\n",
    "print(\"Playlist aanmaken gelukt!\")"
   ]
  }
 ],
 "metadata": {
  "kernelspec": {
   "display_name": "Python 3",
   "language": "python",
   "name": "python3"
  },
  "language_info": {
   "codemirror_mode": {
    "name": "ipython",
    "version": 3
   },
   "file_extension": ".py",
   "mimetype": "text/x-python",
   "name": "python",
   "nbconvert_exporter": "python",
   "pygments_lexer": "ipython3",
   "version": "3.12.4"
  }
 },
 "nbformat": 4,
 "nbformat_minor": 2
}
